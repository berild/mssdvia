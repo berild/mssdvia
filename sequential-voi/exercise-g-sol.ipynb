{
 "cells": [
  {
   "cell_type": "markdown",
   "metadata": {},
   "source": [
    "# Sequential Uncertainty Reuction and Value of Information in Gaussian Process Models"
   ]
  },
  {
   "cell_type": "markdown",
   "metadata": {},
   "source": [
    "We have a forest on a $25\\times25$ grid, which means that it consists of $625$ units of cells, $(1,1), (1,2),\\dots,(25,25)$. A farmer only has two choices $a = 0$,leave all cells for conservation, or $a = 1$, harvest all cells.\n",
    "\n",
    "The uncertain profits on a cell $\\mathbf{s} = (s_1, s_2)$ has $E[x(\\mathbf{s})] = \\mathbf{0}$, $\\mathrm{Var}[x(\\mathbf{s})] = 1^2$ and $\\mathrm{Cov}[x(\\mathbf{s}),x(\\mathbf{s}')] = e^{-0.15h}$, where $h = \\sqrt{||\\mathbf{s}-\\mathbf{s}'||^2}$. This yeilds the multivariate prior \n",
    "\\begin{equation*}\n",
    "\\mathbf{x} \\sim \\mathcal{N}[\\mathbf{0},\\Sigma].\n",
    "\\end{equation*}\n",
    "\n",
    "We do measurements along the North-South Lines in the grid. Which means that we measure $25$ cells at a time along the line $y(\\mathbf{s}) = x(\\mathbf{s}) + \\mathcal{N}[0,5^2]$. This means we can measure $25$ different lines that are modelled by\n",
    "\\begin{equation*}\n",
    "\\mathbf{y}_j = \\mathbf{F}_j\\mathbf{x} + \\mathcal{N}[\\mathbf{0},\\mathbf{T}].\n",
    "\\end{equation*}\n",
    "\n",
    "All this yeilds the new mean and covariance at the $j$th line \n",
    "\\begin{equation*}\n",
    "\\begin{array}{rcl}\n",
    "\\mathbf{\\mu}_j & = & \\mathbf{\\mu} + \\mathbf{\\Sigma}\\mathbf{F}_j^T(\\mathbf{F}_j\\mathbf{\\Sigma}\\mathbf{F}_j^T + \\mathbf{T})^{-1}(\\mathbf{y}_j - \\mathbf{F}_j\\mathbf{\\mu})\\\\\n",
    "\\mathbf{\\Sigma}_j & = & \\mathbf{\\Sigma} - \\mathbf{\\Sigma}\\mathbf{F}_j^T(\\mathbf{F}_j\\mathbf{\\Sigma}\\mathbf{F}_j^T + \\mathbf{T})^{-1}\\mathbf{F_j}\\mathbf{\\Sigma}.\n",
    "\\end{array}\n",
    "\\end{equation*}"
   ]
  },
  {
   "cell_type": "code",
   "execution_count": 45,
   "metadata": {},
   "outputs": [],
   "source": [
    "import numpy as np\n",
    "N = 25\n",
    "m = 625\n",
    "def create_grid(m,N):\n",
    "    Sigma = np.identity(m)\n",
    "    s = np.zeros((2,m))\n",
    "    T = np.identity(N)*5**2\n",
    "    mu = np.zeros(m)\n",
    "    for i in range(N):\n",
    "        for j in range(N):\n",
    "            s[:,j + i*N] = [i+1,j+1]\n",
    "    for i in range(m-1):\n",
    "        for j in range(i+1,m):\n",
    "            Sigma[i,j] = Sigma[j,i] = np.exp(-0.15*np.sqrt((s[0,i] - s[0,j])**2 + (s[1,i] - s[1,j])**2))\n",
    "    return s, mu, Sigma, T\n",
    "\n",
    "def get_F_j(m,N,j):\n",
    "    F_j = np.zeros((N,m))\n",
    "    for i in range(N):\n",
    "        for k in range(N):\n",
    "            F_j[i,k*N + j-1] = 1\n",
    "    return F_j\n",
    "\n",
    "def get_Sigma_j(m,N,j,Sigma,T):\n",
    "    F_j = get_F_j(m,N,j)\n",
    "    tmp = (F_j@Sigma@F_j.transpose() + T)\n",
    "    tmp = np.linalg.inv(tmp)\n",
    "    Sigma_j = Sigma - Sigma@F_j.transpose()@tmp@F_j@Sigma\n",
    "    return(Sigma_j)"
   ]
  },
  {
   "cell_type": "code",
   "execution_count": 48,
   "metadata": {},
   "outputs": [],
   "source": [
    "s, mu, Sigma, T = create_grid(m,N)\n",
    "Sigma_j = Sigma_j(m,N,2,Sigma,T)"
   ]
  },
  {
   "cell_type": "markdown",
   "metadata": {},
   "source": [
    "### a)\n",
    "Select the line j that m,aximises the reduction in the mean variance of the grid: i.e. the one that gives the smallest $\\frac{1}{625}\\sum_{k=1}^{625} \\Sigma_j(k,k)$.\n"
   ]
  },
  {
   "cell_type": "code",
   "execution_count": 61,
   "metadata": {},
   "outputs": [],
   "source": [
    "def max_reduc_mean_var(m,N,Sigma,T):\n",
    "    tmp_min = np.inf\n",
    "    tmp_min_j = np.nan\n",
    "    for j in range(25):\n",
    "        Sigma_j = get_Sigma_j(m,N,j,Sigma,T)\n",
    "        tmp_mean_var = np.diag(Sigma_j).mean()\n",
    "        if tmp_mean_var < tmp_min:\n",
    "            tmp_min = tmp_mean_var\n",
    "            tmp_min_j = j\n",
    "    return tmp_min, tmp_min_j"
   ]
  },
  {
   "cell_type": "code",
   "execution_count": 68,
   "metadata": {},
   "outputs": [
    {
     "name": "stdout",
     "output_type": "stream",
     "text": [
      "Line 13 maximizes the reduction in mean variance, and has magnitude 0.830369561605575.\n"
     ]
    }
   ],
   "source": [
    "min_mean_var, min_j = max_reduc_mean_var(m,N,Sigma,T)\n",
    "\n",
    "print(\"Line {} maximizes the reduction in mean variance, and has magnitude {}.\".format(min_j,min_mean_var))"
   ]
  }
 ],
 "metadata": {
  "kernelspec": {
   "display_name": "Python 3",
   "language": "python",
   "name": "python3"
  },
  "language_info": {
   "codemirror_mode": {
    "name": "ipython",
    "version": 3
   },
   "file_extension": ".py",
   "mimetype": "text/x-python",
   "name": "python",
   "nbconvert_exporter": "python",
   "pygments_lexer": "ipython3",
   "version": "3.7.5"
  }
 },
 "nbformat": 4,
 "nbformat_minor": 4
}
