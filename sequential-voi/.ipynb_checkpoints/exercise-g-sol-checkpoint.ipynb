{
 "cells": [
  {
   "cell_type": "markdown",
   "metadata": {},
   "source": [
    "# Sequential Uncertainty Reuction and Value of Information in Gaussian Process Models"
   ]
  },
  {
   "cell_type": "markdown",
   "metadata": {},
   "source": [
    "We have a forest on a $25\\times25$ grid, which means that it consists of $625$ units of cells, $(1,1), (1,2),\\dots,(25,25)$. A farmer only has two choices $a = 0$,leave all cells for conservation, or $a = 1$, harvest all cells.\n",
    "\n",
    "The uncertain profits on a cell $\\mathbf{s} = (s_1, s_2)$ has $E[x(\\mathbf{s})] = \\mathbf{0}$, $\\mathrm{Var}[x(\\mathbf{s})] = 1^2$ and $\\mathrm{Cov}[x(\\mathbf{s}),x(\\mathbf{s}')] = e^{-0.15h}$, where $h = \\sqrt{||\\mathbf{s}-\\mathbf{s}'||^2}$. This yeilds the multivariate prior \n",
    "\\begin{equation*}\n",
    "\\mathbf{x} \\sim \\mathcal{N}[\\mathbf{0},\\Sigma].\n",
    "\\end{equation*}\n",
    "\n",
    "We do measurements along the North-South Lines in the grid. Which means that we measure $25$ cells at a time along the line $y(\\mathbf{s}) = x(\\mathbf{s}) + \\mathcal{N}[0,5^2]$. This means we can measure $25$ different lines that are modelled by\n",
    "\\begin{equation*}\n",
    "\\mathbf{y}_j = \\mathbf{F}_j\\mathbf{x} + \\mathcal{N}[\\mathbf{0},\\mathbf{T}].\n",
    "\\end{equation*}\n",
    "\n",
    "All this yeilds the new mean and covariance at the $j$th line \n",
    "\\begin{equation*}\n",
    "\\begin{array}{rcl}\n",
    "\\mathbf{\\mu}_j & = & \\mathbf{\\mu} + \\mathbf{\\Sigma}\\mathbf{F}_j^T(\\mathbf{F}_j\\mathbf{\\Sigma}\\mathbf{F}_j^T + \\mathbf{T})^{-1}(\\mathbf{y}_j - \\mathbf{F}_j\\mathbf{\\mu})\\\\\n",
    "\\mathbf{\\Sigma}_j & = & \\mathbf{\\Sigma} - \\mathbf{\\Sigma}\\mathbf{F}_j^T(\\mathbf{F}_j\\mathbf{\\Sigma}\\mathbf{F}_j^T + \\mathbf{T})^{-1}\\mathbf{F_j}\\mathbf{\\Sigma}.\n",
    "\\end{array}\n",
    "\\end{equation*}"
   ]
  },
  {
   "cell_type": "code",
   "execution_count": 40,
   "metadata": {},
   "outputs": [],
   "source": [
    "import numpy as np\n",
    "N = 25\n",
    "m = 625\n",
    "def create_grid(m,N):\n",
    "    Sigma = np.identity(m)\n",
    "    s = np.zeros((2,m))\n",
    "    T = np.identity(N)*5**2\n",
    "    mu = np.zeros(m)\n",
    "    for i in range(N):\n",
    "        for j in range(N):\n",
    "            s[:,j + i*N] = [i+1,j+1]\n",
    "    for i in range(m-1):\n",
    "        for j in range(i+1,m):\n",
    "            Sigma[i,j] = Sigma[j,i] = np.exp(-0.15*np.sqrt((s[0,i] - s[0,j])**2 + (s[1,i] - s[1,j])**2))\n",
    "    return s, mu, Sigma, T\n",
    "\n",
    "def get_F_j(m,N,j):\n",
    "    F_j = np.zeros((N,m))\n",
    "    for i in range(N):\n",
    "        for k in range(N):\n",
    "            F_j[i,k*N + j-1] = 1\n",
    "    return F_j\n",
    "\n",
    "def get_Sigma_j(m,N,j,Sigma,T):\n",
    "    F_j = get_F_j(m,N,j)\n",
    "    tmp = (F_j@Sigma@F_j.transpose() + T)\n",
    "    print(tmp)\n",
    "    Sigma_j = Sigma - Sigma@F_j.transpose()@tmp@F_j@Sigma\n",
    "    return(Sigma_j)"
   ]
  },
  {
   "cell_type": "code",
   "execution_count": 41,
   "metadata": {},
   "outputs": [
    {
     "ename": "AttributeError",
     "evalue": "'numpy.ndarray' object has no attribute 'linalg'",
     "output_type": "error",
     "traceback": [
      "\u001b[1;31m---------------------------------------------------------------------------\u001b[0m",
      "\u001b[1;31mAttributeError\u001b[0m                            Traceback (most recent call last)",
      "\u001b[1;32m<ipython-input-41-5211dce330b4>\u001b[0m in \u001b[0;36m<module>\u001b[1;34m\u001b[0m\n\u001b[0;32m      1\u001b[0m \u001b[0ms\u001b[0m\u001b[1;33m,\u001b[0m \u001b[0mmu\u001b[0m\u001b[1;33m,\u001b[0m \u001b[0mSigma\u001b[0m\u001b[1;33m,\u001b[0m \u001b[0mT\u001b[0m \u001b[1;33m=\u001b[0m \u001b[0mcreate_grid\u001b[0m\u001b[1;33m(\u001b[0m\u001b[0mm\u001b[0m\u001b[1;33m,\u001b[0m\u001b[0mN\u001b[0m\u001b[1;33m)\u001b[0m\u001b[1;33m\u001b[0m\u001b[1;33m\u001b[0m\u001b[0m\n\u001b[1;32m----> 2\u001b[1;33m \u001b[0mget_Sigma_j\u001b[0m\u001b[1;33m(\u001b[0m\u001b[0mm\u001b[0m\u001b[1;33m,\u001b[0m\u001b[0mN\u001b[0m\u001b[1;33m,\u001b[0m\u001b[1;36m2\u001b[0m\u001b[1;33m,\u001b[0m\u001b[0mSigma\u001b[0m\u001b[1;33m,\u001b[0m\u001b[0mT\u001b[0m\u001b[1;33m)\u001b[0m\u001b[1;33m\u001b[0m\u001b[1;33m\u001b[0m\u001b[0m\n\u001b[0m",
      "\u001b[1;32m<ipython-input-40-1a034bdcfd40>\u001b[0m in \u001b[0;36mget_Sigma_j\u001b[1;34m(m, N, j, Sigma, T)\u001b[0m\n\u001b[0;32m     24\u001b[0m \u001b[1;32mdef\u001b[0m \u001b[0mget_Sigma_j\u001b[0m\u001b[1;33m(\u001b[0m\u001b[0mm\u001b[0m\u001b[1;33m,\u001b[0m\u001b[0mN\u001b[0m\u001b[1;33m,\u001b[0m\u001b[0mj\u001b[0m\u001b[1;33m,\u001b[0m\u001b[0mSigma\u001b[0m\u001b[1;33m,\u001b[0m\u001b[0mT\u001b[0m\u001b[1;33m)\u001b[0m\u001b[1;33m:\u001b[0m\u001b[1;33m\u001b[0m\u001b[1;33m\u001b[0m\u001b[0m\n\u001b[0;32m     25\u001b[0m     \u001b[0mF_j\u001b[0m \u001b[1;33m=\u001b[0m \u001b[0mget_F_j\u001b[0m\u001b[1;33m(\u001b[0m\u001b[0mm\u001b[0m\u001b[1;33m,\u001b[0m\u001b[0mN\u001b[0m\u001b[1;33m,\u001b[0m\u001b[0mj\u001b[0m\u001b[1;33m)\u001b[0m\u001b[1;33m\u001b[0m\u001b[1;33m\u001b[0m\u001b[0m\n\u001b[1;32m---> 26\u001b[1;33m     \u001b[0mtmp\u001b[0m \u001b[1;33m=\u001b[0m \u001b[1;33m(\u001b[0m\u001b[0mF_j\u001b[0m\u001b[1;33m@\u001b[0m\u001b[0mSigma\u001b[0m\u001b[1;33m@\u001b[0m\u001b[0mF_j\u001b[0m\u001b[1;33m.\u001b[0m\u001b[0mtranspose\u001b[0m\u001b[1;33m(\u001b[0m\u001b[1;33m)\u001b[0m \u001b[1;33m+\u001b[0m \u001b[0mT\u001b[0m\u001b[1;33m)\u001b[0m\u001b[1;33m.\u001b[0m\u001b[0mlinalg\u001b[0m\u001b[1;33m.\u001b[0m\u001b[0minv\u001b[0m\u001b[1;33m(\u001b[0m\u001b[1;33m)\u001b[0m\u001b[1;33m\u001b[0m\u001b[1;33m\u001b[0m\u001b[0m\n\u001b[0m\u001b[0;32m     27\u001b[0m     \u001b[0mSigma_j\u001b[0m \u001b[1;33m=\u001b[0m \u001b[0mSigma\u001b[0m \u001b[1;33m-\u001b[0m \u001b[0mSigma\u001b[0m\u001b[1;33m@\u001b[0m\u001b[0mF_j\u001b[0m\u001b[1;33m.\u001b[0m\u001b[0mtranspose\u001b[0m\u001b[1;33m(\u001b[0m\u001b[1;33m)\u001b[0m\u001b[1;33m@\u001b[0m\u001b[0mtmp\u001b[0m\u001b[1;33m@\u001b[0m\u001b[0mF_j\u001b[0m\u001b[1;33m@\u001b[0m\u001b[0mSigma\u001b[0m\u001b[1;33m\u001b[0m\u001b[1;33m\u001b[0m\u001b[0m\n\u001b[0;32m     28\u001b[0m     \u001b[1;32mreturn\u001b[0m\u001b[1;33m(\u001b[0m\u001b[0mSigma_j\u001b[0m\u001b[1;33m)\u001b[0m\u001b[1;33m\u001b[0m\u001b[1;33m\u001b[0m\u001b[0m\n",
      "\u001b[1;31mAttributeError\u001b[0m: 'numpy.ndarray' object has no attribute 'linalg'"
     ]
    }
   ],
   "source": [
    "s, mu, Sigma, T = create_grid(m,N)\n",
    "get_Sigma_j(m,N,2,Sigma,T)"
   ]
  },
  {
   "cell_type": "markdown",
   "metadata": {},
   "source": [
    "### a)\n",
    "Select the line j that m,aximises the reduction in the mean variance of the grid: i.e. the one that gives the smallest $\\frac{1}{625}\\sum_{k=1}^{625} \\Sigma_j(k,k)$.\n"
   ]
  },
  {
   "cell_type": "code",
   "execution_count": null,
   "metadata": {},
   "outputs": [],
   "source": []
  }
 ],
 "metadata": {
  "kernelspec": {
   "display_name": "Python 3",
   "language": "python",
   "name": "python3"
  },
  "language_info": {
   "codemirror_mode": {
    "name": "ipython",
    "version": 3
   },
   "file_extension": ".py",
   "mimetype": "text/x-python",
   "name": "python",
   "nbconvert_exporter": "python",
   "pygments_lexer": "ipython3",
   "version": "3.7.5"
  }
 },
 "nbformat": 4,
 "nbformat_minor": 4
}
