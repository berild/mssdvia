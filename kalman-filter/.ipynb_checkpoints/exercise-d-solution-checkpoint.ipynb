{
 "cells": [
  {
   "cell_type": "markdown",
   "metadata": {},
   "source": [
    "# Ensamble based inversion"
   ]
  },
  {
   "cell_type": "code",
   "execution_count": 3,
   "metadata": {},
   "outputs": [],
   "source": [
    "import numpy as np\n",
    "import pandas as pd\n",
    "import seaborn as sns\n",
    "import matplotlib.pyplot as plt\n",
    "from scipy import linalg\n",
    "sns.set_style(\"white\")"
   ]
  },
  {
   "cell_type": "code",
   "execution_count": 4,
   "metadata": {},
   "outputs": [],
   "source": [
    "data = pd.DataFrame({'receiver_layer': np.linspace(51,100,50), \n",
    "                     'travel_time': np.loadtxt(\"data.txt\")})"
   ]
  },
  {
   "cell_type": "code",
   "execution_count": 5,
   "metadata": {},
   "outputs": [
    {
     "data": {
      "image/png": "[encoded data removed]",
      "text/plain": [
       "<Figure size 432x288 with 1 Axes>"
      ]
     },
     "metadata": {
      "needs_background": "light"
     },
     "output_type": "display_data"
    }
   ],
   "source": [
    "nyc_chart = sns.scatterplot(x = \"receiver_layer\",\n",
    "                         y = \"travel_time\",\n",
    "                         data=data)"
   ]
  },
  {
   "cell_type": "markdown",
   "metadata": {},
   "source": [
    "# a)"
   ]
  },
  {
   "cell_type": "code",
   "execution_count": 6,
   "metadata": {},
   "outputs": [],
   "source": [
    "def r_x():\n",
    "    mu = 0.5-0.001*np.linspace(1,100,num = 100)\n",
    "    covar = np.identity(100)*0.05**2\n",
    "    eta = 0.1\n",
    "    for i in range(99):\n",
    "        for j in range(i+1,100):\n",
    "            h = abs(i-j)\n",
    "            covar[i,j] = covar[j,i] = 0.05**2*(1+eta*h)*np.exp(-eta*h)\n",
    "    L = linalg.cholesky(covar)\n",
    "    U = np.random.normal(0, 1, 100)\n",
    "    x = mu + np.transpose(L)@U\n",
    "    return(x)\n",
    "\n",
    "def forecast_ensamble(t,x):\n",
    "    theta = np.cos(np.arctan(np.linspace(51,100,50)))\n",
    "    for j in range(50):\n",
    "        x_row = x.sum(axis=1)\n",
    "        for b in range(200):\n",
    "            t_for = x_row[b]/theta[j] + np.random.normal(0,0.1**2)\n",
    "            \n",
    "    \n",
    "    return(t)\n",
    "        "
   ]
  },
  {
   "cell_type": "code",
   "execution_count": 7,
   "metadata": {},
   "outputs": [],
   "source": [
    "x = np.zeros((200,100))\n",
    "for i in range(200):\n",
    "    x[i,:] = r_x()"
   ]
  },
  {
   "cell_type": "code",
   "execution_count": 16,
   "metadata": {},
   "outputs": [
    {
     "data": {
      "text/plain": [
       "array(0.00232216)"
      ]
     },
     "execution_count": 16,
     "metadata": {},
     "output_type": "execute_result"
    }
   ],
   "source": [
    "np.cov(x[:,0])"
   ]
  }
 ],
 "metadata": {
  "kernelspec": {
   "display_name": "Python 3",
   "language": "python",
   "name": "python3"
  },
  "language_info": {
   "codemirror_mode": {
    "name": "ipython",
    "version": 3
   },
   "file_extension": ".py",
   "mimetype": "text/x-python",
   "name": "python",
   "nbconvert_exporter": "python",
   "pygments_lexer": "ipython3",
   "version": "3.7.4"
  }
 },
 "nbformat": 4,
 "nbformat_minor": 4
}
